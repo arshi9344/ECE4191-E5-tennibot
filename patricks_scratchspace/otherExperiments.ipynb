{
 "cells": [
  {
   "cell_type": "code",
   "execution_count": 3,
   "id": "d12cc3c4de3100eb",
   "metadata": {
    "ExecuteTime": {
     "end_time": "2024-08-25T09:53:29.441998Z",
     "start_time": "2024-08-25T09:53:29.340836Z"
    }
   },
   "outputs": [],
   "source": [
    "import numpy as np\n",
    "import time"
   ]
  },
  {
   "cell_type": "code",
   "id": "583b3f2fa9acad8d",
   "metadata": {
    "ExecuteTime": {
     "end_time": "2024-08-25T10:33:13.375224Z",
     "start_time": "2024-08-25T10:33:13.367513Z"
    }
   },
   "source": [
    "class RobotController:\n",
    "    def __init__(self, Kp, Ki, dt=0.1, wheel_radius = 0.028, wheel_sep = 0.222, integral_windup=True, real_time=True):\n",
    "        self.Kp = Kp            # Proportional gain\n",
    "        self.Ki = Ki            # Integral gain\n",
    "        self.dt = dt            # Time step\n",
    "        \n",
    "        self.r = wheel_radius\n",
    "        self.l = wheel_sep\n",
    "        \n",
    "        self.min_output = -100  # Minimum duty cycle (-100%)\n",
    "        self.max_output = 100  # Maximum duty cycle (100%)\n",
    "        \n",
    "        self.ml_integral = 0       # Integral term, motor left\n",
    "        self.mr_integral = 0       # Integral term, motor right\n",
    "        self.ml_last_update, self.mr_last_update = None, None  # Last update time\n",
    "\n",
    "        self.anti_integral_windup = integral_windup  # Anti-windup flag\n",
    "        self.real_time = real_time\n",
    "\n",
    "    \"\"\"\n",
    "    Gets the time of the last measurement/update for the motor ml or mr\n",
    "    \"\"\"\n",
    "    def get_dt(self, motor=None):\n",
    "        if motor not in ['ml', 'mr']:\n",
    "            raise ValueError(\"Motor must be 'ml' or 'mr'.\")\n",
    "\n",
    "        if not self.real_time:\n",
    "            return self.dt\n",
    "        \n",
    "        last_update = f\"{motor}_last_update\"\n",
    "        now = time.time()\n",
    "        print(f\"Last update: {getattr(self, last_update)}\")\n",
    "        if getattr(self, last_update) is None:\n",
    "            setattr(self, last_update, now)\n",
    "            return self.dt\n",
    "        \n",
    "        dt = now - getattr(self, last_update)\n",
    "        setattr(self, last_update, now)\n",
    "        return dt\n",
    "\n",
    "\n",
    "    def compute(self, w_target, w_actual, motor=None):\n",
    "        # motor should be either \"ml\" or \"mr\" for left or right motor\n",
    "        if motor not in ['ml', 'mr']:\n",
    "            raise ValueError(\"Motor must be 'ml' or 'mr'.\")\n",
    "        integral_attr = f\"{motor}_integral\"\n",
    "        last_update = f\"{motor}_last_update\"\n",
    "        \n",
    "        dt = self.get_dt(motor)\n",
    "        \n",
    "        error = w_target - w_actual # Calculate the error\n",
    "        P_out = self.Kp * error # Proportional term\n",
    "        I_out = self.Ki * getattr(self,integral_attr) # Integral term\n",
    "        raw_output = P_out + I_out\n",
    "\n",
    "        if self.anti_integral_windup:\n",
    "            # Anti-windup - only integrate if output is not saturated\n",
    "            if self.min_output < raw_output < self.max_output:\n",
    "                setattr(self, integral_attr, getattr(self, integral_attr) + error * dt)\n",
    "                # equiv. to self.ml_integral += error * self.dt or self.mr_integral += error * self.dt\n",
    "        else:\n",
    "            setattr(self, integral_attr, getattr(self, integral_attr) + error * dt)\n",
    "                        \n",
    "            \n",
    "        return np.clip(raw_output, self.min_output, self.max_output) # Clamp the output to the min/max duty cycle limits\n",
    "        \n",
    "    \n",
    "    def diff_drive_control(self, v_desired, w_desired, wl_actual, wr_actual):\n",
    "        # v_desired: m/s\n",
    "        # w_desired (rotation), wl_actual, w_actual (rotation): rad/s\n",
    "        \n",
    "        # Calculate desired wheel angular velocities\n",
    "        wl_desired = (v_desired + self.l*w_desired/2)/self.r\n",
    "        wr_desired = (v_desired - self.l*w_desired/2)/self.r\n",
    "        \n",
    "        print(f\"wl_des (rad/s): {wl_desired:.2f}, wr_des: {wr_desired:.2f}\\nwl_des (rps): {wl_desired/(2*np.pi):.2f}, wr_des: {wr_desired/(2*np.pi):.2f}\")\n",
    "\n",
    "        # Compute duty cycles for left and right wheels\n",
    "        duty_cycle_l = self.compute(wl_desired, wl_actual, 'ml')\n",
    "        duty_cycle_r = self.compute(wr_desired, wr_actual, 'mr')\n",
    "        return duty_cycle_l, duty_cycle_r\n",
    "\n",
    "# Example usage:\n",
    "# Create a PI controller instance with desired Kp, Ki values and time step\n",
    "Kp = 0.2  # Proportional gain\n",
    "Ki = 0.02  # Integral gain\n",
    "dt = 0.1  # Time step in seconds\n",
    "\n",
    "controller = RobotController(Kp, Ki, dt)\n",
    "\n",
    "\n",
    "\n",
    "\n",
    "# Compute the duty cycle to apply to the PWM motor\n"
   ],
   "outputs": [],
   "execution_count": 166
  },
  {
   "cell_type": "code",
   "id": "1d0a1ba6c58cb4c5",
   "metadata": {
    "ExecuteTime": {
     "end_time": "2024-08-25T10:33:16.053785Z",
     "start_time": "2024-08-25T10:33:16.049934Z"
    }
   },
   "source": [
    "v_desired = 0.5\n",
    "w_desired = 0\n",
    "left_wheel_angvel = 0 # rad/s\n",
    "right_wheel_angvel = 0 # rad/s\n",
    "\n",
    "output = controller.compute(200, 200, 'mr')\n",
    "print(f\"Output: {output:.2f}\")\n",
    "\n",
    "\n",
    "\n",
    "duty_cycle_l, duty_cycle_r = controller.diff_drive_control(v_desired, w_desired, left_wheel_angvel, right_wheel_angvel)\n",
    "print(f\"Duty Cycle Left: {duty_cycle_l:.2f}%, Duty Cycle Right: {duty_cycle_r:.2f}%\")"
   ],
   "outputs": [
    {
     "name": "stdout",
     "output_type": "stream",
     "text": [
      "Last update: None\n",
      "Output: 0.00\n",
      "wl_des (rad/s): 17.86, wr_des: 17.86\n",
      "wl_des (rps): 2.84, wr_des: 2.84\n",
      "Last update: None\n",
      "Last update: 1724581996.051604\n",
      "Duty Cycle Left: 3.57%, Duty Cycle Right: 3.57%\n"
     ]
    }
   ],
   "execution_count": 167
  },
  {
   "cell_type": "code",
   "id": "b8beb6cde556575",
   "metadata": {
    "ExecuteTime": {
     "end_time": "2024-08-25T11:06:41.294599Z",
     "start_time": "2024-08-25T11:06:40.974607Z"
    }
   },
   "source": [
    "import threading\n",
    "import time\n",
    "import numpy as np\n",
    "import matplotlib.pyplot as plt\n",
    "from IPython import display\n",
    "\n",
    "%matplotlib inline\n",
    "plt.ion()  # Turn on interactive mode\n",
    "\n",
    "class Robot:\n",
    "    def __init__(self):\n",
    "        self.position = 0\n",
    "        self.velocity = 0\n",
    "\n",
    "    def update(self, control_input):\n",
    "        self.velocity += control_input\n",
    "        self.position += self.velocity\n",
    "\n",
    "class RobotController:\n",
    "    def __init__(self):\n",
    "        self.robot = Robot()\n",
    "        self.time = []\n",
    "        self.positions = []\n",
    "        self.velocities = []\n",
    "        self.running = True\n",
    "\n",
    "    def control_loop(self):\n",
    "        start_time = time.time()\n",
    "        while self.running:\n",
    "            current_time = time.time() - start_time\n",
    "            # Simulated control input (e.g., a sine wave)\n",
    "            control_input = np.sin(current_time)\n",
    "            \n",
    "            # Update robot state\n",
    "            self.robot.update(control_input)\n",
    "            \n",
    "            # Store data for plotting\n",
    "            self.time.append(current_time)\n",
    "            self.positions.append(self.robot.position)\n",
    "            self.velocities.append(self.robot.velocity)\n",
    "            \n",
    "            # Simulate some processing time\n",
    "            time.sleep(0.01)\n",
    "\n",
    "    def start(self):\n",
    "        self.control_thread = threading.Thread(target=self.control_loop)\n",
    "        self.control_thread.start()\n",
    "\n",
    "    def stop(self):\n",
    "        self.running = False\n",
    "        self.control_thread.join()\n",
    "\n",
    "def update_plot(controller, fig, ax1, ax2):\n",
    "    ax1.clear()\n",
    "    ax2.clear()\n",
    "    \n",
    "    ax1.plot(controller.time, controller.positions)\n",
    "    ax2.plot(controller.time, controller.velocities)\n",
    "    \n",
    "    ax1.set_ylabel('Position')\n",
    "    ax2.set_ylabel('Velocity')\n",
    "    ax2.set_xlabel('Time')\n",
    "    \n",
    "    fig.canvas.draw()\n",
    "    display.clear_output(wait=True)\n",
    "    display.display(fig)\n",
    "\n"
   ],
   "outputs": [],
   "execution_count": 1
  },
  {
   "cell_type": "code",
   "id": "1277c49ade09599f",
   "metadata": {},
   "source": [
    "# Create the controller and start the control loop\n",
    "controller = RobotController()\n",
    "controller.start()\n",
    "\n",
    "# Set up the plot\n",
    "fig, (ax1, ax2) = plt.subplots(2, 1, figsize=(10, 8))\n",
    "\n",
    "# Main loop for updating the plot\n",
    "try:\n",
    "    while True:\n",
    "        update_plot(controller, fig, ax1, ax2)\n",
    "        time.sleep(0.1)  # Update plot every 0.1 seconds\n",
    "except KeyboardInterrupt:\n",
    "    print(\"Stopping the simulation...\")\n",
    "finally:\n",
    "    controller.stop()\n",
    "    plt.close(fig)\n",
    "\n",
    "print(\"Simulation ended.\")"
   ],
   "execution_count": 2,
   "outputs": [
    {
     "name": "stdout",
     "output_type": "stream",
     "text": [
      "Stopping the simulation...\n",
      "Simulation ended.\n"
     ]
    }
   ]
  },
  {
   "cell_type": "code",
   "execution_count": 4,
   "id": "8fbf8af4d0268200",
   "metadata": {
    "ExecuteTime": {
     "end_time": "2024-08-25T09:59:00.471623Z",
     "start_time": "2024-08-25T09:59:00.213171Z"
    }
   },
   "outputs": [],
   "source": []
  },
  {
   "cell_type": "code",
   "execution_count": null,
   "id": "bf0ca266c9ee6bff",
   "metadata": {},
   "outputs": [],
   "source": []
  }
 ],
 "metadata": {
  "kernelspec": {
   "display_name": "Python 3 (ipykernel)",
   "language": "python",
   "name": "python3"
  },
  "language_info": {
   "codemirror_mode": {
    "name": "ipython",
    "version": 3
   },
   "file_extension": ".py",
   "mimetype": "text/x-python",
   "name": "python",
   "nbconvert_exporter": "python",
   "pygments_lexer": "ipython3",
   "version": "3.12.4"
  }
 },
 "nbformat": 4,
 "nbformat_minor": 5
}
