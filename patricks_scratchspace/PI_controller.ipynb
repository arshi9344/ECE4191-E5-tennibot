{
 "cells": [
  {
   "metadata": {
    "jupyter": {
     "is_executing": true
    },
    "ExecuteTime": {
     "start_time": "2024-08-22T03:55:00.914401Z"
    }
   },
   "cell_type": "code",
   "source": [
    "from matplotlib import pyplot as plt\n",
    "\n",
    "# Physical dimensions\n",
    "WHEEL_RADIUS = 0.056 # meters\n",
    "WHEEL_SEP = 0.222 # meters\n",
    "\n",
    "class RobotController:\n",
    "    \n",
    "    def __init__(self,Kp=0.2,Ki=0.0,wheel_radius=WHEEL_RADIUS, wheel_sep=WHEEL_SEP):\n",
    "        \n",
    "        self.Kp = Kp\n",
    "        self.Ki = Ki\n",
    "        self.r = wheel_radius\n",
    "        self.l = wheel_sep\n",
    "        self.e_sum_l = 0\n",
    "        self.e_sum_r = 0\n",
    "        \n",
    "    def p_control(self, w_desired, w_measured, e_sum, dt):\n",
    "        error = w_desired - w_measured\n",
    "        p_term = self.Kp * error\n",
    "        i_term = self.Ki * e_sum * dt  # Note: Integrate error over time\n",
    "        duty_cycle = min(max(-1, p_term + i_term), 1)\n",
    "        e_sum = e_sum + error * dt  # Accumulate error over actual time\n",
    "        \n",
    "        return duty_cycle, e_sum\n",
    "        \n",
    "        \n",
    "    def drive(self, v_desired, w_desired, wl, wr, dt):\n",
    "        \n",
    "        wl_desired = (v_desired + self.l*w_desired/2)/self.r\n",
    "        wr_desired = (v_desired - self.l*w_desired/2)/self.r\n",
    "        \n",
    "        duty_cycle_l,self.e_sum_l = self.p_control(wl_desired, wl, self.e_sum_l, dt)\n",
    "        duty_cycle_r,self.e_sum_r = self.p_control(wr_desired, wr, self.e_sum_r, dt)\n",
    "        \n",
    "        return duty_cycle_l, duty_cycle_r\n",
    "\n",
    "\n",
    "class TestData:\n",
    "    def __init__(self, v_desired, w_desired, v_actual, w_actual, dt):\n",
    "        self.v_desired = v_desired\n",
    "        self.w_desired = w_desired\n",
    "        self.v_actual = v_actual\n",
    "        self.w_actual = w_actual\n",
    "        self.dt = dt\n",
    "        \n",
    "# Parameters\n",
    "Kp = 0.2\n",
    "Ki = 0.0\n",
    "\n",
    "# Initialising\n",
    "controller = RobotController(Kp, Ki)\n",
    "\n",
    "poses = []\n",
    "velocities = []\n",
    "duty_cycle_commands = []\n",
    "\n",
    "data = [\n",
    "    TestData(0.5, 0.0, 1.24, 1.75, 0.1),\n",
    "    TestData( 0.50, 0.0, 1.27, 1.66, 0.12),\n",
    "    TestData( 0.50,  0.0, 1.38,  1.76, 0.1),\n",
    "    TestData( 0.50, 0.0, 1.38, 1.76, 0.12),\n",
    "]\n",
    "\n",
    "for i in data:\n",
    "    duty_cycle_l, duty_cycle_r = controller.drive(i.v_desired, i.w_desired, i.v_actual, i.w_actual, i.dt)\n",
    "    print(f\"duty cycle l: {duty_cycle_l}, r: {duty_cycle_r}\")\n",
    "    duty_cycle_commands.append([duty_cycle_l,duty_cycle_r])\n",
    "    \n",
    "plt.figure()\n",
    "plt.plot(duty_cycle_commands)\n",
    "plt.title(\"Duty cycle commands\")\n",
    "plt.show()\n"
   ],
   "id": "5fa1a303cfe5f6b6",
   "outputs": [],
   "execution_count": null
  },
  {
   "metadata": {},
   "cell_type": "code",
   "outputs": [],
   "execution_count": null,
   "source": [
    "\n",
    "\n",
    "\n",
    "\n",
    "\n",
    "\n",
    "# Example: Move forward at 0.5 m/s with no rotation\n",
    "v_desired = 0.5\n",
    "w_desired = 0.1"
   ],
   "id": "346349fbdb209b5"
  },
  {
   "metadata": {},
   "cell_type": "code",
   "outputs": [],
   "execution_count": null,
   "source": "",
   "id": "9ebfdd5104faf7b5"
  }
 ],
 "metadata": {
  "kernelspec": {
   "display_name": "Python 3",
   "language": "python",
   "name": "python3"
  },
  "language_info": {
   "codemirror_mode": {
    "name": "ipython",
    "version": 2
   },
   "file_extension": ".py",
   "mimetype": "text/x-python",
   "name": "python",
   "nbconvert_exporter": "python",
   "pygments_lexer": "ipython2",
   "version": "2.7.6"
  }
 },
 "nbformat": 4,
 "nbformat_minor": 5
}
