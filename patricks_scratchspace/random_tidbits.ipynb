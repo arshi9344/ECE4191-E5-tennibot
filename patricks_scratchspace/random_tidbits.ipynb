{
 "cells": [
  {
   "cell_type": "code",
   "execution_count": null,
   "id": "initial_id",
   "metadata": {
    "collapsed": true
   },
   "outputs": [],
   "source": [
    "# # GPIO Purposes\n",
    "# GPIO.setmode(GPIO.BCM)\n",
    "# GPIO_ids = {\n",
    "#     GPIO.IN: \"IN\",\n",
    "#     GPIO.OUT: \"OUT\",\n",
    "#     GPIO.SPI: \"SPI\",\n",
    "#     GPIO.I2C: \"I2C\",\n",
    "#     GPIO.HARD_PWM: \"HARD_PWM\",\n",
    "#     GPIO.SERIAL: \"SERIAL\",\n",
    "#     GPIO.UNKNOWN: \"UNKNOWN\"\n",
    "# }\n",
    "# \n",
    "# # Print out the active channels\n",
    "# for pin in range(40):\n",
    "#     function = GPIO.gpio_function(pin)\n",
    "#     purpose = GPIO_ids.get(function, \"UNKNOWN\")\n",
    "#     print(f\"GPIO {pin} is {purpose}\")\n",
    "#     \n",
    "# # GPIO.cleanup()\n"
   ]
  }
 ],
 "metadata": {
  "kernelspec": {
   "display_name": "Python 3",
   "language": "python",
   "name": "python3"
  },
  "language_info": {
   "codemirror_mode": {
    "name": "ipython",
    "version": 2
   },
   "file_extension": ".py",
   "mimetype": "text/x-python",
   "name": "python",
   "nbconvert_exporter": "python",
   "pygments_lexer": "ipython2",
   "version": "2.7.6"
  }
 },
 "nbformat": 4,
 "nbformat_minor": 5
}
