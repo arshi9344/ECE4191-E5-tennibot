{
 "cells": [
  {
   "cell_type": "code",
   "execution_count": null,
   "id": "a75fec2b",
   "metadata": {},
   "outputs": [],
   "source": [
    "\n",
    "import cv2\n",
    "\n",
    "import os\n",
    "\n",
    "# Set the directory where you want to save the captured images\n",
    "save_dir = 'image2'\n",
    "if not os.path.exists(save_dir):\n",
    "    os.makedirs(save_dir)\n",
    "\n",
    "# Open a connection to the camera (0 is usually the default camera)\n",
    "cap = cv2.VideoCapture(0)\n",
    "\n",
    "# Check if the camera opened successfully\n",
    "if not cap.isOpened():\n",
    "    print(\"Error: Could not open camera.\")\n",
    "    exit()\n",
    "\n",
    "# Image counter\n",
    "img_counter = 0\n",
    "\n",
    "print(\"Press 'c' to capture an image and 'q' to quit.\")\n",
    "\n",
    "while True:\n",
    "    # Capture frame-by-frame\n",
    "    ret, frame = cap.read()\n",
    "\n",
    "    # If the frame is not captured properly, exit the loop\n",
    "    if not ret:\n",
    "        print(\"Failed to grab frame\")\n",
    "       # break\n",
    "\n",
    "    # Display the resulting frame\n",
    "    cv2.imshow('Camera', frame)\n",
    "\n",
    "    # Wait for a key press\n",
    "    key = cv2.waitKey(1) & 0xFF\n",
    "\n",
    "    # Press 'c' to capture the image\n",
    "    if key == ord('c'):\n",
    "        img_name = f\"{save_dir}/image_{img_counter}.jpg\"\n",
    "        cv2.imwrite(img_name, frame)\n",
    "        print(f\"Image {img_counter} saved as {img_name}\")\n",
    "        img_counter += 1\n",
    "\n",
    "    # Press 'q' to quit the capturing loop\n",
    "    elif key == ord('q'):\n",
    "        print(\"Exiting...\")\n",
    "        break\n",
    "\n",
    "# Release the camera and close the windows\n",
    "cap.release()\n",
    "cv2.destroyAllWindows()\n"
   ]
  }
 ],
 "metadata": {
  "kernelspec": {
   "display_name": "Python 3 (ipykernel)",
   "language": "python",
   "name": "python3"
  },
  "language_info": {
   "codemirror_mode": {
    "name": "ipython",
    "version": 3
   },
   "file_extension": ".py",
   "mimetype": "text/x-python",
   "name": "python",
   "nbconvert_exporter": "python",
   "pygments_lexer": "ipython3",
   "version": "3.10.12"
  }
 },
 "nbformat": 4,
 "nbformat_minor": 5
}
