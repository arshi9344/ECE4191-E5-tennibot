{
 "cells": [
  {
   "cell_type": "markdown",
   "metadata": {},
   "source": [
    "### This notebook merges the cv code with background subtraction and colour filtering from Claude AI to the tennis ball detector class"
   ]
  },
  {
   "cell_type": "code",
   "execution_count": 1,
   "metadata": {},
   "outputs": [
    {
     "ename": "ModuleNotFoundError",
     "evalue": "No module named 'robot_core'",
     "output_type": "error",
     "traceback": [
      "\u001b[0;31m---------------------------------------------------------------------------\u001b[0m",
      "\u001b[0;31mModuleNotFoundError\u001b[0m                       Traceback (most recent call last)",
      "\u001b[0;32m/tmp/ipykernel_1091/578259560.py\u001b[0m in \u001b[0;36m<module>\u001b[0;34m\u001b[0m\n\u001b[1;32m      5\u001b[0m \u001b[0mrobot_core\u001b[0m\u001b[0;34m.\u001b[0m\u001b[0mperception\u001b[0m\u001b[0;34m.\u001b[0m\u001b[0mopencv_with_CLAHE\u001b[0m\u001b[0;34m\u001b[0m\u001b[0;34m\u001b[0m\u001b[0m\n\u001b[1;32m      6\u001b[0m \"\"\"\n\u001b[0;32m----> 7\u001b[0;31m \u001b[0;32mfrom\u001b[0m \u001b[0mrobot_core\u001b[0m\u001b[0;34m.\u001b[0m\u001b[0mperception\u001b[0m\u001b[0;34m.\u001b[0m\u001b[0mopencv_with_CLAHE\u001b[0m \u001b[0;32mimport\u001b[0m \u001b[0mTennisBallDetector\u001b[0m\u001b[0;34m\u001b[0m\u001b[0;34m\u001b[0m\u001b[0m\n\u001b[0m",
      "\u001b[0;31mModuleNotFoundError\u001b[0m: No module named 'robot_core'"
     ]
    }
   ],
   "source": [
    "import cv2\n",
    "\n",
    "\"\"\"\n",
    "Note: This modified class definition has been moved to: \n",
    "robot_core.perception.opencv_with_CLAHE\n",
    "\"\"\"\n",
    "from robot_core.perception.opencv_with_CLAHE import TennisBallDetector\n"
   ]
  },
  {
   "cell_type": "code",
   "execution_count": 2,
   "metadata": {},
   "outputs": [
    {
     "ename": "NameError",
     "evalue": "name 'TennisBallDetector' is not defined",
     "output_type": "error",
     "traceback": [
      "\u001b[0;31m---------------------------------------------------------------------------\u001b[0m",
      "\u001b[0;31mNameError\u001b[0m                                 Traceback (most recent call last)",
      "\u001b[0;32m/tmp/ipykernel_1091/1196766798.py\u001b[0m in \u001b[0;36m<module>\u001b[0;34m\u001b[0m\n\u001b[1;32m      1\u001b[0m \u001b[0;31m# Instantiate the TennisBallDetector class\u001b[0m\u001b[0;34m\u001b[0m\u001b[0;34m\u001b[0m\u001b[0m\n\u001b[0;32m----> 2\u001b[0;31m \u001b[0mdetector\u001b[0m \u001b[0;34m=\u001b[0m \u001b[0mTennisBallDetector\u001b[0m\u001b[0;34m(\u001b[0m\u001b[0;34m)\u001b[0m\u001b[0;34m\u001b[0m\u001b[0;34m\u001b[0m\u001b[0m\n\u001b[0m\u001b[1;32m      3\u001b[0m \u001b[0;34m\u001b[0m\u001b[0m\n\u001b[1;32m      4\u001b[0m \u001b[0;32mtry\u001b[0m\u001b[0;34m:\u001b[0m\u001b[0;34m\u001b[0m\u001b[0;34m\u001b[0m\u001b[0m\n\u001b[1;32m      5\u001b[0m     \u001b[0;32mwhile\u001b[0m \u001b[0;32mTrue\u001b[0m\u001b[0;34m:\u001b[0m\u001b[0;34m\u001b[0m\u001b[0;34m\u001b[0m\u001b[0m\n",
      "\u001b[0;31mNameError\u001b[0m: name 'TennisBallDetector' is not defined"
     ]
    }
   ],
   "source": [
    "# Instantiate the TennisBallDetector class\n",
    "detector = TennisBallDetector()\n",
    "\n",
    "try:\n",
    "    while True:\n",
    "        # Detect tennis balls\n",
    "        detected = detector.detect()\n",
    "        \n",
    "        if detected:\n",
    "            ball_count = detector.get_ball_count()\n",
    "            print(f\"Detected {ball_count} ball(s).\", flush=True)\n",
    "            \n",
    "            for i in range(ball_count):\n",
    "                distance_from_lines = detector.get_ball_distance_from_lines(i)\n",
    "                if distance_from_lines is not None:\n",
    "                    print(f\"Ball {i+1} distance from center lines: {distance_from_lines:.2f} pixels\", flush=True)\n",
    "                else:\n",
    "                    print(f\"Ball {i+1}: Unable to calculate distance from lines.\", flush=True)\n",
    "            \n",
    "            # Display the resulting frame\n",
    "            detector.display_frame()\n",
    "            # display.clear_output(wait=True)\n",
    "        else:\n",
    "            print(\"No ball detected.\", flush=True)  # Check if no ball is detected\n",
    "\n",
    "except KeyboardInterrupt:\n",
    "    print(\"Stopping detection.\")\n",
    "finally:\n",
    "    detector.camera.release()\n",
    "    cv2.destroyAllWindows()  # Clean up windows if any are open"
   ]
  },
  {
   "cell_type": "code",
   "execution_count": null,
   "metadata": {},
   "outputs": [],
   "source": []
  }
 ],
 "metadata": {
  "kernelspec": {
   "display_name": "Python 3 (ipykernel)",
   "language": "python",
   "name": "python3"
  },
  "language_info": {
   "codemirror_mode": {
    "name": "ipython",
    "version": 3
   },
   "file_extension": ".py",
   "mimetype": "text/x-python",
   "name": "python",
   "nbconvert_exporter": "python",
   "pygments_lexer": "ipython3",
   "version": "3.10.12"
  }
 },
 "nbformat": 4,
 "nbformat_minor": 2
}
