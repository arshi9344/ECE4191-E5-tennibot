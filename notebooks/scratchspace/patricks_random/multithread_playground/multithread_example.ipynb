{
 "cells": [
  {
   "metadata": {
    "ExecuteTime": {
     "end_time": "2024-09-09T06:05:37.413081Z",
     "start_time": "2024-09-09T06:05:34.263554Z"
    }
   },
   "cell_type": "code",
   "source": [
    "import multiprocessing as mp\n",
    "import queue\n",
    "import time\n",
    "import os \n",
    "print(os.getcwd())\n",
    "from motion_control import MotionControl, ComputerVision\n",
    "\n",
    "class RobotController:\n",
    "    def __init__(self):\n",
    "        self.command_queue = mp.Queue(maxsize=100)\n",
    "        self.status_queue = mp.Queue(maxsize=100)\n",
    "        self.vision_queue = mp.Queue(maxsize=100)\n",
    "\n",
    "        self.motion_control = MotionControl(self.command_queue, self.status_queue)\n",
    "        self.computer_vision = ComputerVision(self.vision_queue)\n",
    "\n",
    "    def start(self):\n",
    "        self.motion_control.start()\n",
    "        self.computer_vision.start()\n",
    "\n",
    "    def stop(self):\n",
    "        self.motion_control.stop()\n",
    "        self.computer_vision.stop()\n",
    "        self.motion_control.join()\n",
    "        self.computer_vision.join()\n",
    "\n",
    "    def run(self):\n",
    "        while True:\n",
    "            self.command_queue.put(\"Move forward\")\n",
    "            try:\n",
    "                status = self.status_queue.get_nowait()\n",
    "                print(f\"Motion status: {status}\")\n",
    "            except Exception:\n",
    "                pass\n",
    "\n",
    "            try:\n",
    "                vision_data = self.vision_queue.get_nowait()\n",
    "                print(f\"Vision data: {vision_data}\")\n",
    "            except Exception:\n",
    "                pass\n",
    "\n",
    "            time.sleep(0.5)\n",
    "\n",
    "if __name__ == \"__main__\":\n",
    "    robot = RobotController()\n",
    "    try:\n",
    "        robot.start()\n",
    "        robot.run()\n",
    "    except KeyboardInterrupt:\n",
    "        print(\"Stopping robot...\")\n",
    "        robot.stop()"
   ],
   "id": "327d941bce6eb2e7",
   "outputs": [
    {
     "name": "stdout",
     "output_type": "stream",
     "text": [
      "/Users/patrick/Documents/Projects/ECE4191-E5-tennibot/notebooks/scratchspace/patricks_random/multithread_playground\n",
      "Motion status: Motion control status\n",
      "Vision data: Vision data\n",
      "Motion status: Motion control status\n",
      "Vision data: Vision data\n",
      "Motion status: Motion control status\n",
      "Vision data: Vision data\n",
      "Motion status: Motion control status\n",
      "Vision data: Vision data\n",
      "Motion status: Motion control status\n",
      "Vision data: Vision data\n",
      "Motion status: Motion control status\n",
      "Vision data: Vision data\n",
      "Stopping robot...\n",
      "Motion control received: Move forward\n",
      "Motion control received: Move forward\n",
      "Motion control received: Move forward\n",
      "Motion control received: Move forward\n",
      "Motion control received: Move forward\n",
      "Motion control received: Move forward\n",
      "Motion control received: Move forward\n"
     ]
    },
    {
     "name": "stderr",
     "output_type": "stream",
     "text": [
      "Process ComputerVision-4:\n",
      "Process MotionControl-3:\n",
      "Traceback (most recent call last):\n",
      "Traceback (most recent call last):\n",
      "  File \"/Users/patrick/miniconda3/envs/random-tools/lib/python3.12/multiprocessing/process.py\", line 314, in _bootstrap\n",
      "    self.run()\n",
      "  File \"/Users/patrick/Documents/Projects/ECE4191-E5-tennibot/notebooks/scratchspace/patricks_random/multithread_playground/motion_control.py\", line 38, in run\n",
      "    time.sleep(0.1)\n",
      "KeyboardInterrupt\n",
      "  File \"/Users/patrick/miniconda3/envs/random-tools/lib/python3.12/multiprocessing/process.py\", line 314, in _bootstrap\n",
      "    self.run()\n",
      "  File \"/Users/patrick/Documents/Projects/ECE4191-E5-tennibot/notebooks/scratchspace/patricks_random/multithread_playground/motion_control.py\", line 23, in run\n",
      "    self.status_queue.put(\"Motion control status\")\n",
      "  File \"/Users/patrick/miniconda3/envs/random-tools/lib/python3.12/multiprocessing/queues.py\", line 89, in put\n",
      "    if not self._sem.acquire(block, timeout):\n",
      "           ^^^^^^^^^^^^^^^^^^^^^^^^^^^^^^^^^\n",
      "KeyboardInterrupt\n"
     ]
    }
   ],
   "execution_count": 2
  },
  {
   "metadata": {},
   "cell_type": "code",
   "outputs": [],
   "execution_count": null,
   "source": "",
   "id": "fcf41419f1d64786"
  }
 ],
 "metadata": {
  "kernelspec": {
   "display_name": "Python 3",
   "language": "python",
   "name": "python3"
  },
  "language_info": {
   "codemirror_mode": {
    "name": "ipython",
    "version": 2
   },
   "file_extension": ".py",
   "mimetype": "text/x-python",
   "name": "python",
   "nbconvert_exporter": "python",
   "pygments_lexer": "ipython2",
   "version": "2.7.6"
  }
 },
 "nbformat": 4,
 "nbformat_minor": 5
}
