{
 "cells": [
  {
   "cell_type": "code",
   "id": "initial_id",
   "metadata": {
    "ExecuteTime": {
     "end_time": "2024-10-02T04:25:51.207389Z",
     "start_time": "2024-10-02T04:25:42.485279Z"
    }
   },
   "source": [
    "import os, sys\n",
    "# print(f\"{os.getcwd()}\")\n",
    "# sys.path.append(os.getcwd())\n",
    "\n",
    "import matplotlib.pyplot as plt\n",
    "import matplotlib.gridspec as gridspec\n",
    "%matplotlib inline\n",
    "plt.ion()  # Turn on interactive mode\n",
    "\n",
    "from robot_core.coordinator.ProcessCoordinator import Coordinator\n",
    "\n",
    "###############################################################################\n",
    "\n",
    "\n",
    "# fig, axes = plt.subplots(2, 2, figsize=(12, 10))\n",
    "# \n",
    "# coordinator = Coordinator(simulate=True, fig=fig, axes=axes, live_graphs=True, graph_interval=0.2, log=False)\n",
    "# coordinator.run()\n",
    "\n",
    "############## New approach\n",
    "# Set up figure\n",
    "fig = plt.figure(figsize=(24, 12))\n",
    "\n",
    "# Create a GridSpec with 2 rows and 3 columns (2x2 grid on the left, and a single large plot on the right)\n",
    "gs = gridspec.GridSpec(2, 3, width_ratios=[1, 1, 2])  # Width ratio for the right plot should be bigger\n",
    "\n",
    "# Create the 2x2 subplots\n",
    "ax1 = plt.subplot(gs[0, 0])  # Top-left\n",
    "ax2 = plt.subplot(gs[0, 1])  # Top-right\n",
    "ax3 = plt.subplot(gs[1, 0])  # Bottom-left\n",
    "ax4 = plt.subplot(gs[1, 1])  # Bottom-right\n",
    "\n",
    "# Create the large plot on the right, spanning both rows (occupies 2 rows in the 3rd column)\n",
    "ax5 = plt.subplot(gs[:, 2])  # This spans the entire height (both rows) of the 3rd column\n",
    "\n",
    "\n",
    "coordinator = Coordinator(simulate=False, fig=fig, axes=[ax1, ax2, ax3, ax4, ax5], live_graphs=True, graph_interval=0.2, log=False)\n",
    "coordinator.run()\n"
   ],
   "outputs": [
    {
     "name": "stdout",
     "output_type": "stream",
     "text": [
      "Not running on Raspberry Pi. GPIO library not imported.\n",
      "Logger name: robot_core.orchestration.orchestrator_mp.Orchestrator\n",
      "Logger level: 0\n",
      "Logger handlers: []\n",
      "Logger parent: <RootLogger root (INFO)>\n",
      "Coordinator Process (PID: 57073) running with: 13 threads\n"
     ]
    },
    {
     "name": "stderr",
     "output_type": "stream",
     "text": [
      "Error in Orchestrator, Stopping robot: name 'GPIO' is not defined\n",
      "Process Orchestrator-2:\n",
      "Traceback (most recent call last):\n",
      "  File \"/Users/patrick/miniconda3/envs/random-tools/lib/python3.12/multiprocessing/process.py\", line 314, in _bootstrap\n",
      "    self.run()\n",
      "  File \"/Users/patrick/Documents/Projects/ECE4191-E5-tennibot/robot_core/orchestration/orchestrator_mp.py\", line 210, in run\n",
      "    self.robot.set_motor_speed(0, 0)\n",
      "    ^^^^^^^^^^^^^^^^^^^^^^^^^^\n",
      "AttributeError: 'NoneType' object has no attribute 'set_motor_speed'\n"
     ]
    },
    {
     "name": "stdout",
     "output_type": "stream",
     "text": [
      "Orchestrator Process (PID: 58795) running with: 10 threads\n",
      "Not running on Raspberry Pi. GPIO library not imported.\n"
     ]
    },
    {
     "name": "stderr",
     "output_type": "stream",
     "text": [
      "2024-10-02 14:25:45.239 python[58796:6642437] WARNING: AVCaptureDeviceTypeExternal is deprecated for Continuity Cameras. Please use AVCaptureDeviceTypeContinuityCamera and add NSCameraUseContinuityCameraDeviceType to your Info.plist.\n",
      "--- Logging error ---\n",
      "Traceback (most recent call last):\n",
      "  File \"/Users/patrick/Documents/Projects/ECE4191-E5-tennibot/robot_core/coordinator/ProcessCoordinator.py\", line 105, in run\n",
      "    self.shared_data['robot_state'].set(RobotStates.DRIVE)\n",
      "  File \"/Users/patrick/Documents/Projects/ECE4191-E5-tennibot/robot_core/coordinator/robot_states.py\", line 34, in set\n",
      "    self._value.value = state.value\n",
      "    ^^^^^^^^^^^^^^^^^\n",
      "  File \"/Users/patrick/miniconda3/envs/random-tools/lib/python3.12/multiprocessing/managers.py\", line 1142, in set\n",
      "    return self._callmethod('set', (value,))\n",
      "           ^^^^^^^^^^^^^^^^^^^^^^^^^^^^^^^^^\n",
      "  File \"/Users/patrick/miniconda3/envs/random-tools/lib/python3.12/multiprocessing/managers.py\", line 821, in _callmethod\n",
      "    kind, result = conn.recv()\n",
      "                   ^^^^^^^^^^^\n",
      "  File \"/Users/patrick/miniconda3/envs/random-tools/lib/python3.12/multiprocessing/connection.py\", line 250, in recv\n",
      "    buf = self._recv_bytes()\n",
      "          ^^^^^^^^^^^^^^^^^^\n",
      "  File \"/Users/patrick/miniconda3/envs/random-tools/lib/python3.12/multiprocessing/connection.py\", line 430, in _recv_bytes\n",
      "    buf = self._recv(4)\n",
      "          ^^^^^^^^^^^^^\n",
      "  File \"/Users/patrick/miniconda3/envs/random-tools/lib/python3.12/multiprocessing/connection.py\", line 395, in _recv\n",
      "    chunk = read(handle, remaining)\n",
      "            ^^^^^^^^^^^^^^^^^^^^^^^\n",
      "KeyboardInterrupt\n",
      "\n",
      "During handling of the above exception, another exception occurred:\n",
      "\n",
      "Traceback (most recent call last):\n",
      "  File \"/Users/patrick/miniconda3/envs/random-tools/lib/python3.12/logging/handlers.py\", line 1493, in emit\n",
      "    self.enqueue(self.prepare(record))\n",
      "  File \"/Users/patrick/miniconda3/envs/random-tools/lib/python3.12/logging/handlers.py\", line 1451, in enqueue\n",
      "    self.queue.put_nowait(record)\n",
      "  File \"<string>\", line 2, in put_nowait\n",
      "  File \"/Users/patrick/miniconda3/envs/random-tools/lib/python3.12/multiprocessing/managers.py\", line 821, in _callmethod\n",
      "    kind, result = conn.recv()\n",
      "                   ^^^^^^^^^^^\n",
      "  File \"/Users/patrick/miniconda3/envs/random-tools/lib/python3.12/multiprocessing/connection.py\", line 251, in recv\n",
      "    return _ForkingPickler.loads(buf.getbuffer())\n",
      "           ^^^^^^^^^^^^^^^^^^^^^^^^^^^^^^^^^^^^^^\n",
      "EOFError: Ran out of input\n",
      "Call stack:\n",
      "  File \"<frozen runpy>\", line 198, in _run_module_as_main\n",
      "  File \"<frozen runpy>\", line 88, in _run_code\n",
      "  File \"/Users/patrick/miniconda3/envs/random-tools/lib/python3.12/site-packages/ipykernel_launcher.py\", line 17, in <module>\n",
      "    app.launch_new_instance()\n",
      "  File \"/Users/patrick/miniconda3/envs/random-tools/lib/python3.12/site-packages/traitlets/config/application.py\", line 1075, in launch_instance\n",
      "    app.start()\n",
      "  File \"/Users/patrick/miniconda3/envs/random-tools/lib/python3.12/site-packages/ipykernel/kernelapp.py\", line 701, in start\n",
      "    self.io_loop.start()\n",
      "  File \"/Users/patrick/miniconda3/envs/random-tools/lib/python3.12/site-packages/tornado/platform/asyncio.py\", line 205, in start\n",
      "    self.asyncio_loop.run_forever()\n",
      "  File \"/Users/patrick/miniconda3/envs/random-tools/lib/python3.12/asyncio/base_events.py\", line 641, in run_forever\n",
      "    self._run_once()\n",
      "  File \"/Users/patrick/miniconda3/envs/random-tools/lib/python3.12/asyncio/base_events.py\", line 1987, in _run_once\n",
      "    handle._run()\n",
      "  File \"/Users/patrick/miniconda3/envs/random-tools/lib/python3.12/asyncio/events.py\", line 88, in _run\n",
      "    self._context.run(self._callback, *self._args)\n",
      "  File \"/Users/patrick/miniconda3/envs/random-tools/lib/python3.12/site-packages/ipykernel/kernelbase.py\", line 534, in dispatch_queue\n",
      "    await self.process_one()\n",
      "  File \"/Users/patrick/miniconda3/envs/random-tools/lib/python3.12/site-packages/ipykernel/kernelbase.py\", line 523, in process_one\n",
      "    await dispatch(*args)\n",
      "  File \"/Users/patrick/miniconda3/envs/random-tools/lib/python3.12/site-packages/ipykernel/kernelbase.py\", line 429, in dispatch_shell\n",
      "    await result\n",
      "  File \"/Users/patrick/miniconda3/envs/random-tools/lib/python3.12/site-packages/ipykernel/kernelbase.py\", line 767, in execute_request\n",
      "    reply_content = await reply_content\n",
      "  File \"/Users/patrick/miniconda3/envs/random-tools/lib/python3.12/site-packages/ipykernel/ipkernel.py\", line 429, in do_execute\n",
      "    res = shell.run_cell(\n",
      "  File \"/Users/patrick/miniconda3/envs/random-tools/lib/python3.12/site-packages/ipykernel/zmqshell.py\", line 549, in run_cell\n",
      "    return super().run_cell(*args, **kwargs)\n",
      "  File \"/Users/patrick/miniconda3/envs/random-tools/lib/python3.12/site-packages/IPython/core/interactiveshell.py\", line 3075, in run_cell\n",
      "    result = self._run_cell(\n",
      "  File \"/Users/patrick/miniconda3/envs/random-tools/lib/python3.12/site-packages/IPython/core/interactiveshell.py\", line 3130, in _run_cell\n",
      "    result = runner(coro)\n",
      "  File \"/Users/patrick/miniconda3/envs/random-tools/lib/python3.12/site-packages/IPython/core/async_helpers.py\", line 129, in _pseudo_sync_runner\n",
      "    coro.send(None)\n",
      "  File \"/Users/patrick/miniconda3/envs/random-tools/lib/python3.12/site-packages/IPython/core/interactiveshell.py\", line 3334, in run_cell_async\n",
      "    has_raised = await self.run_ast_nodes(code_ast.body, cell_name,\n",
      "  File \"/Users/patrick/miniconda3/envs/random-tools/lib/python3.12/site-packages/IPython/core/interactiveshell.py\", line 3517, in run_ast_nodes\n",
      "    if await self.run_code(code, result, async_=asy):\n",
      "  File \"/Users/patrick/miniconda3/envs/random-tools/lib/python3.12/site-packages/IPython/core/interactiveshell.py\", line 3577, in run_code\n",
      "    exec(code_obj, self.user_global_ns, self.user_ns)\n",
      "  File \"/var/folders/d4/f1tz3p297tzbdy4dprmnq3hm0000gn/T/ipykernel_57073/3304299900.py\", line 38, in <module>\n",
      "    coordinator.run()\n",
      "  File \"/Users/patrick/Documents/Projects/ECE4191-E5-tennibot/robot_core/coordinator/ProcessCoordinator.py\", line 116, in run\n",
      "    self.logger.info(\"Exiting Coordinator\")\n",
      "Message: 'Exiting Coordinator'\n",
      "Arguments: ()\n"
     ]
    },
    {
     "name": "stdout",
     "output_type": "stream",
     "text": [
      "VisionRunner: Image captured\n",
      "VisionRunner: Image captured\n",
      "VisionRunner: Image captured\n",
      "VisionRunner: Image captured\n",
      "VisionRunner: Image captured\n",
      "VisionRunner: Image captured\n",
      "VisionRunner: Image captured\n",
      "VisionRunner: Image captured\n",
      "VisionRunner: Image captured\n",
      "Releasing camera\n"
     ]
    },
    {
     "ename": "EOFError",
     "evalue": "Ran out of input",
     "output_type": "error",
     "traceback": [
      "\u001B[0;31m---------------------------------------------------------------------------\u001B[0m",
      "\u001B[0;31mEOFError\u001B[0m                                  Traceback (most recent call last)",
      "Cell \u001B[0;32mIn[1], line 38\u001B[0m\n\u001B[1;32m     34\u001B[0m ax5 \u001B[38;5;241m=\u001B[39m plt\u001B[38;5;241m.\u001B[39msubplot(gs[:, \u001B[38;5;241m2\u001B[39m])  \u001B[38;5;66;03m# This spans the entire height (both rows) of the 3rd column\u001B[39;00m\n\u001B[1;32m     37\u001B[0m coordinator \u001B[38;5;241m=\u001B[39m Coordinator(simulate\u001B[38;5;241m=\u001B[39m\u001B[38;5;28;01mFalse\u001B[39;00m, fig\u001B[38;5;241m=\u001B[39mfig, axes\u001B[38;5;241m=\u001B[39m[ax1, ax2, ax3, ax4, ax5], live_graphs\u001B[38;5;241m=\u001B[39m\u001B[38;5;28;01mTrue\u001B[39;00m, graph_interval\u001B[38;5;241m=\u001B[39m\u001B[38;5;241m0.2\u001B[39m, log\u001B[38;5;241m=\u001B[39m\u001B[38;5;28;01mFalse\u001B[39;00m)\n\u001B[0;32m---> 38\u001B[0m coordinator\u001B[38;5;241m.\u001B[39mrun()\n",
      "File \u001B[0;32m~/Documents/Projects/ECE4191-E5-tennibot/robot_core/coordinator/ProcessCoordinator.py:124\u001B[0m, in \u001B[0;36mCoordinator.run\u001B[0;34m(self)\u001B[0m\n\u001B[1;32m    120\u001B[0m \u001B[38;5;28;01mfinally\u001B[39;00m:\n\u001B[1;32m    121\u001B[0m     \u001B[38;5;66;03m# print(self.axes)\u001B[39;00m\n\u001B[1;32m    122\u001B[0m     \u001B[38;5;66;03m# print(self.fig)\u001B[39;00m\n\u001B[1;32m    123\u001B[0m     \u001B[38;5;28;01mif\u001B[39;00m \u001B[38;5;28mself\u001B[39m\u001B[38;5;241m.\u001B[39mfig \u001B[38;5;129;01mis\u001B[39;00m \u001B[38;5;129;01mnot\u001B[39;00m \u001B[38;5;28;01mNone\u001B[39;00m \u001B[38;5;129;01mand\u001B[39;00m \u001B[38;5;28mself\u001B[39m\u001B[38;5;241m.\u001B[39maxes \u001B[38;5;129;01mis\u001B[39;00m \u001B[38;5;129;01mnot\u001B[39;00m \u001B[38;5;28;01mNone\u001B[39;00m:\n\u001B[0;32m--> 124\u001B[0m         \u001B[38;5;28mself\u001B[39m\u001B[38;5;241m.\u001B[39morchestrator\u001B[38;5;241m.\u001B[39mupdate_plot(\u001B[38;5;28mself\u001B[39m\u001B[38;5;241m.\u001B[39mfig, \u001B[38;5;28mself\u001B[39m\u001B[38;5;241m.\u001B[39maxes)\n\u001B[1;32m    125\u001B[0m     \u001B[38;5;66;03m# print(self.robot_graph_data)\u001B[39;00m\n\u001B[1;32m    126\u001B[0m     plt\u001B[38;5;241m.\u001B[39mioff()\n",
      "File \u001B[0;32m~/Documents/Projects/ECE4191-E5-tennibot/robot_core/orchestration/orchestrator_mp.py:238\u001B[0m, in \u001B[0;36mOrchestrator.update_plot\u001B[0;34m(self, fig, axes, clear_output)\u001B[0m\n\u001B[1;32m    236\u001B[0m     \u001B[38;5;28;01mreturn\u001B[39;00m\n\u001B[1;32m    237\u001B[0m \u001B[38;5;28;01mtry\u001B[39;00m:\n\u001B[0;32m--> 238\u001B[0m     \u001B[38;5;28;01mif\u001B[39;00m \u001B[38;5;28mlen\u001B[39m(\u001B[38;5;28mself\u001B[39m\u001B[38;5;241m.\u001B[39mrobot_graph_data) \u001B[38;5;241m==\u001B[39m \u001B[38;5;241m0\u001B[39m:\n\u001B[1;32m    239\u001B[0m         \u001B[38;5;28;01mreturn\u001B[39;00m\n\u001B[1;32m    240\u001B[0m \u001B[38;5;28;01mexcept\u001B[39;00m \u001B[38;5;167;01mTypeError\u001B[39;00m:\n",
      "File \u001B[0;32m<string>:2\u001B[0m, in \u001B[0;36m__len__\u001B[0;34m(self, *args, **kwds)\u001B[0m\n",
      "File \u001B[0;32m~/miniconda3/envs/random-tools/lib/python3.12/multiprocessing/managers.py:821\u001B[0m, in \u001B[0;36mBaseProxy._callmethod\u001B[0;34m(self, methodname, args, kwds)\u001B[0m\n\u001B[1;32m    818\u001B[0m     conn \u001B[38;5;241m=\u001B[39m \u001B[38;5;28mself\u001B[39m\u001B[38;5;241m.\u001B[39m_tls\u001B[38;5;241m.\u001B[39mconnection\n\u001B[1;32m    820\u001B[0m conn\u001B[38;5;241m.\u001B[39msend((\u001B[38;5;28mself\u001B[39m\u001B[38;5;241m.\u001B[39m_id, methodname, args, kwds))\n\u001B[0;32m--> 821\u001B[0m kind, result \u001B[38;5;241m=\u001B[39m conn\u001B[38;5;241m.\u001B[39mrecv()\n\u001B[1;32m    823\u001B[0m \u001B[38;5;28;01mif\u001B[39;00m kind \u001B[38;5;241m==\u001B[39m \u001B[38;5;124m'\u001B[39m\u001B[38;5;124m#RETURN\u001B[39m\u001B[38;5;124m'\u001B[39m:\n\u001B[1;32m    824\u001B[0m     \u001B[38;5;28;01mreturn\u001B[39;00m result\n",
      "File \u001B[0;32m~/miniconda3/envs/random-tools/lib/python3.12/multiprocessing/connection.py:251\u001B[0m, in \u001B[0;36m_ConnectionBase.recv\u001B[0;34m(self)\u001B[0m\n\u001B[1;32m    249\u001B[0m \u001B[38;5;28mself\u001B[39m\u001B[38;5;241m.\u001B[39m_check_readable()\n\u001B[1;32m    250\u001B[0m buf \u001B[38;5;241m=\u001B[39m \u001B[38;5;28mself\u001B[39m\u001B[38;5;241m.\u001B[39m_recv_bytes()\n\u001B[0;32m--> 251\u001B[0m \u001B[38;5;28;01mreturn\u001B[39;00m _ForkingPickler\u001B[38;5;241m.\u001B[39mloads(buf\u001B[38;5;241m.\u001B[39mgetbuffer())\n",
      "\u001B[0;31mEOFError\u001B[0m: Ran out of input"
     ]
    }
   ],
   "execution_count": 1
  },
  {
   "metadata": {
    "ExecuteTime": {
     "end_time": "2024-10-02T04:25:51.217699Z",
     "start_time": "2024-10-02T04:09:26.724426Z"
    }
   },
   "cell_type": "code",
   "source": "",
   "id": "d8511f89a6da6a4b",
   "outputs": [],
   "execution_count": null
  }
 ],
 "metadata": {
  "kernelspec": {
   "display_name": "Python 3 (ipykernel)",
   "language": "python",
   "name": "python3"
  },
  "language_info": {
   "codemirror_mode": {
    "name": "ipython",
    "version": 3
   },
   "file_extension": ".py",
   "mimetype": "text/x-python",
   "name": "python",
   "nbconvert_exporter": "python",
   "pygments_lexer": "ipython3",
   "version": "3.12.4"
  }
 },
 "nbformat": 4,
 "nbformat_minor": 5
}
