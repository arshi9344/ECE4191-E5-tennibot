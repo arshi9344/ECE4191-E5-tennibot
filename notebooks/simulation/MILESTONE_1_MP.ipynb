{
 "cells": [
  {
   "cell_type": "code",
   "id": "initial_id",
   "metadata": {
    "ExecuteTime": {
     "end_time": "2024-10-02T04:09:26.717493Z",
     "start_time": "2024-10-02T04:09:13.597915Z"
    }
   },
   "source": [
    "import os, sys\n",
    "# print(f\"{os.getcwd()}\")\n",
    "# sys.path.append(os.getcwd())\n",
    "\n",
    "import matplotlib.pyplot as plt\n",
    "import matplotlib.gridspec as gridspec\n",
    "%matplotlib inline\n",
    "plt.ion()  # Turn on interactive mode\n",
    "\n",
    "from robot_core.coordinator.ProcessCoordinator import Coordinator\n",
    "\n",
    "###############################################################################\n",
    "\n",
    "\n",
    "# fig, axes = plt.subplots(2, 2, figsize=(12, 10))\n",
    "# \n",
    "# coordinator = Coordinator(simulate=True, fig=fig, axes=axes, live_graphs=True, graph_interval=0.2, log=False)\n",
    "# coordinator.run()\n",
    "\n",
    "############## New approach\n",
    "# Set up figure\n",
    "fig = plt.figure(figsize=(24, 12))\n",
    "\n",
    "# Create a GridSpec with 2 rows and 3 columns (2x2 grid on the left, and a single large plot on the right)\n",
    "gs = gridspec.GridSpec(2, 3, width_ratios=[1, 1, 2])  # Width ratio for the right plot should be bigger\n",
    "\n",
    "# Create the 2x2 subplots\n",
    "ax1 = plt.subplot(gs[0, 0])  # Top-left\n",
    "ax2 = plt.subplot(gs[0, 1])  # Top-right\n",
    "ax3 = plt.subplot(gs[1, 0])  # Bottom-left\n",
    "ax4 = plt.subplot(gs[1, 1])  # Bottom-right\n",
    "\n",
    "# Create the large plot on the right, spanning both rows (occupies 2 rows in the 3rd column)\n",
    "ax5 = plt.subplot(gs[:, 2])  # This spans the entire height (both rows) of the 3rd column\n",
    "\n",
    "\n",
    "coordinator = Coordinator(simulate=False, fig=fig, axes=[ax1, ax2, ax3, ax4, ax5], live_graphs=True, graph_interval=0.2, log=False)\n",
    "coordinator.run()"
   ],
   "outputs": [
    {
     "name": "stdout",
     "output_type": "stream",
     "text": [
      "Logger name: robot_core.orchestration.orchestrator_mp.Orchestrator\n",
      "Logger level: 0\n",
      "Logger handlers: []\n",
      "Logger parent: <RootLogger root (INFO)>\n",
      "Coordinator Process (PID: 55834) running with: 16 threads\n"
     ]
    },
    {
     "name": "stderr",
     "output_type": "stream",
     "text": [
      "Error in Orchestrator, Stopping robot: name 'GPIO' is not defined\n",
      "Process Orchestrator-5:\n",
      "Traceback (most recent call last):\n",
      "  File \"/Users/patrick/miniconda3/envs/random-tools/lib/python3.12/multiprocessing/process.py\", line 314, in _bootstrap\n",
      "    self.run()\n",
      "  File \"/Users/patrick/Documents/Projects/ECE4191-E5-tennibot/robot_core/orchestration/orchestrator_mp.py\", line 210, in run\n",
      "    self.robot.set_motor_speed(0, 0)\n",
      "    ^^^^^^^^^^^^^^^^^^^^^^^^^^\n",
      "AttributeError: 'NoneType' object has no attribute 'set_motor_speed'\n",
      "2024-10-02 14:09:14.650 python[55867:6613472] WARNING: AVCaptureDeviceTypeExternal is deprecated for Continuity Cameras. Please use AVCaptureDeviceTypeContinuityCamera and add NSCameraUseContinuityCameraDeviceType to your Info.plist.\n"
     ]
    },
    {
     "name": "stdout",
     "output_type": "stream",
     "text": [
      "Orchestrator Process (PID: 55866) running with: 10 threads\n",
      "Not running on Raspberry Pi. GPIO library not imported.\n",
      "Inside update_plot, robot graph data is none.\n",
      "VisionRunner: Image captured\n",
      "VisionRunner: Image captured\n",
      "VisionRunner: Image captured\n",
      "VisionRunner: Image captured\n",
      "VisionRunner: Image captured\n",
      "VisionRunner: Image captured\n",
      "VisionRunner: Image captured\n",
      "VisionRunner: Image captured\n",
      "VisionRunner: Image captured\n",
      "VisionRunner: Image captured\n",
      "VisionRunner: Image captured\n",
      "VisionRunner: Image captured\n",
      "VisionRunner: Image captured\n",
      "VisionRunner: Image captured\n",
      "VisionRunner: Image captured\n",
      "VisionRunner: Image captured\n",
      "VisionRunner: Image captured\n",
      "VisionRunner: Image captured\n",
      "VisionRunner: Image captured\n",
      "VisionRunner: Image captured\n",
      "Releasing camera\n"
     ]
    }
   ],
   "execution_count": 2
  },
  {
   "metadata": {
    "ExecuteTime": {
     "end_time": "2024-10-02T04:09:26.726154Z",
     "start_time": "2024-10-02T04:09:26.724426Z"
    }
   },
   "cell_type": "code",
   "source": "",
   "id": "d8511f89a6da6a4b",
   "outputs": [],
   "execution_count": null
  }
 ],
 "metadata": {
  "kernelspec": {
   "display_name": "Python 3 (ipykernel)",
   "language": "python",
   "name": "python3"
  },
  "language_info": {
   "codemirror_mode": {
    "name": "ipython",
    "version": 3
   },
   "file_extension": ".py",
   "mimetype": "text/x-python",
   "name": "python",
   "nbconvert_exporter": "python",
   "pygments_lexer": "ipython3",
   "version": "3.12.4"
  }
 },
 "nbformat": 4,
 "nbformat_minor": 5
}
