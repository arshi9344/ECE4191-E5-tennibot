{
 "cells": [
  {
   "cell_type": "code",
   "id": "initial_id",
   "metadata": {
    "ExecuteTime": {
     "end_time": "2024-10-05T13:10:35.376976Z",
     "start_time": "2024-10-05T13:10:26.733322Z"
    }
   },
   "source": [
    "import os, sys\n",
    "import matplotlib.pyplot as plt\n",
    "try: # Import the GPIO library. If it fails, we assume we are running on a non-Raspberry Pi system.\n",
    "    import RPi.GPIO as GPIO\n",
    "    import gpiozero\n",
    "except ImportError:\n",
    "    print(\"Not running on Raspberry Pi. GPIO library not imported.\")\n",
    "    pass\n",
    "%matplotlib inline\n",
    "plt.ion()  # Turn on interactive mode\n",
    "current_dir = os.getcwd()\n",
    "repo_dir = os.path.abspath(os.path.join(current_dir, \"..\", \"..\"))\n",
    "# print(repo_dir)\n",
    "sys.path.append(repo_dir)\n",
    "\n",
    "\n",
    "from robot_core.coordinator.ProcessCoordinator import Coordinator\n",
    "\n",
    "###############################################################################\n",
    "###############################################################################\n",
    "# In robot coordinate space\n",
    "# +X IN FRONT OF THE ROBOT \n",
    "# +Y TO LEFT OF ROBOT\n",
    "\n",
    "\n",
    "###############################################################################\n",
    "###############################################################################\n",
    "\n",
    "coordinator = Coordinator(\n",
    "    simulate=True, \n",
    "    live_graphs=True, \n",
    "    graph_interval=3, \n",
    "    log=False, \n",
    "    clear_output=False, \n",
    "    plot_time_window=2,\n",
    "    efficient_plotting=False,\n",
    "    save_figs=False\n",
    ")\n",
    "\n",
    "coordinator.run()\n"
   ],
   "outputs": [
    {
     "name": "stdout",
     "output_type": "stream",
     "text": [
      "Not running on Raspberry Pi. GPIO library not imported.\n",
      "Not running on Raspberry Pi. GPIO library not imported.\n",
      "Logger name: robot_core.orchestration.orchestrator_mp.Orchestrator\n",
      "Logger level: 0\n",
      "Logger handlers: []\n",
      "Logger parent: <RootLogger root (INFO)>\n"
     ]
    },
    {
     "name": "stderr",
     "output_type": "stream",
     "text": [
      "Using cache found in /Users/patrick/.cache/torch/hub/ultralytics_yolov5_master\n",
      "YOLOv5 🚀 2024-10-5 Python-3.12.4 torch-2.4.1 CPU\n",
      "\n",
      "Fusing layers... \n",
      "Model summary: 157 layers, 1760518 parameters, 0 gradients, 4.1 GFLOPs\n",
      "Adding AutoShape... \n"
     ]
    },
    {
     "name": "stdout",
     "output_type": "stream",
     "text": [
      "Coordinator Process (PID: 33013) running with: 29 threads\n"
     ]
    },
    {
     "name": "stderr",
     "output_type": "stream",
     "text": [
      "Traceback (most recent call last):\n",
      "  File \"<string>\", line 1, in <module>\n",
      "  File \"/Users/patrick/miniconda3/envs/random-tools/lib/python3.12/multiprocessing/spawn.py\", line 122, in spawn_main\n",
      "    exitcode = _main(fd, parent_sentinel)\n",
      "               ^^^^^^^^^^^^^^^^^^^^^^^^^^\n",
      "  File \"/Users/patrick/miniconda3/envs/random-tools/lib/python3.12/multiprocessing/spawn.py\", line 132, in _main\n",
      "    self = reduction.pickle.load(from_parent)\n",
      "           ^^^^^^^^^^^^^^^^^^^^^^^^^^^^^^^^^^\n",
      "ModuleNotFoundError: No module named 'models'\n"
     ]
    },
    {
     "name": "stdout",
     "output_type": "stream",
     "text": [
      "Orchestrator Process (PID: 33050) running with: 8 threads\n",
      "    Initialised simulated robot.\n"
     ]
    },
    {
     "ename": "KeyboardInterrupt",
     "evalue": "",
     "output_type": "error",
     "traceback": [
      "\u001B[0;31m---------------------------------------------------------------------------\u001B[0m",
      "\u001B[0;31mKeyboardInterrupt\u001B[0m                         Traceback (most recent call last)",
      "Cell \u001B[0;32mIn[1], line 40\u001B[0m\n\u001B[1;32m     19\u001B[0m \u001B[38;5;66;03m###############################################################################\u001B[39;00m\n\u001B[1;32m     20\u001B[0m \u001B[38;5;66;03m###############################################################################\u001B[39;00m\n\u001B[1;32m     21\u001B[0m \u001B[38;5;66;03m# In robot coordinate space\u001B[39;00m\n\u001B[0;32m   (...)\u001B[0m\n\u001B[1;32m     26\u001B[0m \u001B[38;5;66;03m###############################################################################\u001B[39;00m\n\u001B[1;32m     27\u001B[0m \u001B[38;5;66;03m###############################################################################\u001B[39;00m\n\u001B[1;32m     29\u001B[0m coordinator \u001B[38;5;241m=\u001B[39m Coordinator(\n\u001B[1;32m     30\u001B[0m     simulate\u001B[38;5;241m=\u001B[39m\u001B[38;5;28;01mTrue\u001B[39;00m, \n\u001B[1;32m     31\u001B[0m     live_graphs\u001B[38;5;241m=\u001B[39m\u001B[38;5;28;01mTrue\u001B[39;00m, \n\u001B[0;32m   (...)\u001B[0m\n\u001B[1;32m     37\u001B[0m     save_figs\u001B[38;5;241m=\u001B[39m\u001B[38;5;28;01mFalse\u001B[39;00m\n\u001B[1;32m     38\u001B[0m )\n\u001B[0;32m---> 40\u001B[0m coordinator\u001B[38;5;241m.\u001B[39mrun()\n",
      "File \u001B[0;32m~/Documents/Projects/ECE4191-E5-tennibot/robot_core/coordinator/ProcessCoordinator.py:157\u001B[0m, in \u001B[0;36mCoordinator.run\u001B[0;34m(self)\u001B[0m\n\u001B[1;32m    148\u001B[0m \u001B[38;5;250m        \u001B[39m\u001B[38;5;124;03m\"\"\"Searching for a ball / moving to scanning point\"\"\"\u001B[39;00m\n\u001B[1;32m    151\u001B[0m         \u001B[38;5;66;03m# print(self.shared_data['robot_state'])\u001B[39;00m\n\u001B[1;32m    152\u001B[0m \n\u001B[1;32m    153\u001B[0m         \u001B[38;5;66;03m# time.sleep(5)\u001B[39;00m\n\u001B[1;32m    154\u001B[0m \n\u001B[1;32m    155\u001B[0m         \u001B[38;5;66;03m# Graphing\u001B[39;00m\n\u001B[1;32m    156\u001B[0m         \u001B[38;5;66;03m# self.logger.info(\"Coordinator is running\")\u001B[39;00m\n\u001B[0;32m--> 157\u001B[0m         \u001B[38;5;28;01mcontinue\u001B[39;00m\n\u001B[1;32m    159\u001B[0m \u001B[38;5;28;01mexcept\u001B[39;00m \u001B[38;5;167;01mKeyboardInterrupt\u001B[39;00m:\n\u001B[1;32m    160\u001B[0m     \u001B[38;5;28mself\u001B[39m\u001B[38;5;241m.\u001B[39mlogger\u001B[38;5;241m.\u001B[39minfo(\u001B[38;5;124m\"\u001B[39m\u001B[38;5;124mExiting Coordinator\u001B[39m\u001B[38;5;124m\"\u001B[39m)\n",
      "\u001B[0;31mKeyboardInterrupt\u001B[0m: "
     ]
    },
    {
     "name": "stderr",
     "output_type": "stream",
     "text": [
      "/Users/patrick/miniconda3/envs/random-tools/lib/python3.12/site-packages/matplotlib/quiver.py:632: RuntimeWarning: Mean of empty slice.\n",
      "  amean = a.mean()\n",
      "/Users/patrick/miniconda3/envs/random-tools/lib/python3.12/site-packages/numpy/core/_methods.py:129: RuntimeWarning: invalid value encountered in scalar divide\n",
      "  ret = ret.dtype.type(ret / rcount)\n"
     ]
    }
   ],
   "execution_count": 1
  },
  {
   "metadata": {},
   "cell_type": "code",
   "source": "",
   "id": "50b8eaf6ff90ad95",
   "outputs": [],
   "execution_count": null
  }
 ],
 "metadata": {
  "kernelspec": {
   "display_name": "Python 3 (ipykernel)",
   "language": "python",
   "name": "python3"
  },
  "language_info": {
   "codemirror_mode": {
    "name": "ipython",
    "version": 3
   },
   "file_extension": ".py",
   "mimetype": "text/x-python",
   "name": "python",
   "nbconvert_exporter": "python",
   "pygments_lexer": "ipython3",
   "version": "3.10.12"
  }
 },
 "nbformat": 4,
 "nbformat_minor": 5
}
