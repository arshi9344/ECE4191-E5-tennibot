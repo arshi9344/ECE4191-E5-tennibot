{
 "cells": [
  {
   "cell_type": "code",
   "id": "initial_id",
   "metadata": {
    "jupyter": {
     "is_executing": true
    },
    "ExecuteTime": {
     "start_time": "2024-10-10T02:03:20.067977Z"
    }
   },
   "source": [
    "import os, sys\n",
    "import matplotlib.pyplot as plt\n",
    "try: # Import the GPIO library. If it fails, we assume we are running on a non-Raspberry Pi system.\n",
    "    import RPi.GPIO as GPIO\n",
    "    import gpiozero\n",
    "except ImportError:\n",
    "    print(\"Not running on Raspberry Pi. GPIO library not imported.\")\n",
    "    pass\n",
    "%matplotlib inline\n",
    "plt.ion()  # Turn on interactive mode\n",
    "current_dir = os.getcwd()\n",
    "repo_dir = os.path.abspath(os.path.join(current_dir, \"..\", \"..\"))\n",
    "# print(repo_dir)\n",
    "sys.path.append(repo_dir)\n",
    "\n",
    "\n",
    "from robot_core.coordinator.ProcessCoordinator import Coordinator\n",
    "\n",
    "###############################################################################\n",
    "###############################################################################\n",
    "# In robot coordinate space\n",
    "# +X IN FRONT OF THE ROBOT \n",
    "# +Y TO LEFT OF ROBOT\n",
    "\n",
    "\n",
    "###############################################################################\n",
    "###############################################################################\n",
    "\n",
    "coordinator = Coordinator(\n",
    "    simulate=True, \n",
    "    live_graphs=True, \n",
    "    graph_interval=4, \n",
    "    log=False, \n",
    "    clear_output=False, \n",
    "    plot_time_window=5,\n",
    "    efficient_plotting=True,\n",
    "    save_figs=False\n",
    ")\n",
    "\n",
    "coordinator.run()\n"
   ],
   "outputs": [
    {
     "name": "stdout",
     "output_type": "stream",
     "text": [
      "Not running on Raspberry Pi. GPIO library not imported.\n",
      "Logger name: robot_core.orchestration.orchestrator_mp.Orchestrator\n",
      "Logger level: 0\n",
      "Logger handlers: []\n",
      "Logger parent: <RootLogger root (INFO)>\n",
      "Coordinator Process (PID: 98337) running with: 17 threads\n",
      "UPDATE: State before update (AKA what doing now): RobotStates.IDLE\n",
      "_check_command_completion: No previous command\n",
      "NEW STATE: RobotStates.DRIVE_TO_SCAN_POINT, issued command_id: 1\n"
     ]
    }
   ],
   "execution_count": null
  },
  {
   "metadata": {},
   "cell_type": "code",
   "source": "",
   "id": "50b8eaf6ff90ad95",
   "outputs": [],
   "execution_count": null
  }
 ],
 "metadata": {
  "kernelspec": {
   "display_name": "Python 3 (ipykernel)",
   "language": "python",
   "name": "python3"
  },
  "language_info": {
   "codemirror_mode": {
    "name": "ipython",
    "version": 3
   },
   "file_extension": ".py",
   "mimetype": "text/x-python",
   "name": "python",
   "nbconvert_exporter": "python",
   "pygments_lexer": "ipython3",
   "version": "3.10.12"
  }
 },
 "nbformat": 4,
 "nbformat_minor": 5
}
