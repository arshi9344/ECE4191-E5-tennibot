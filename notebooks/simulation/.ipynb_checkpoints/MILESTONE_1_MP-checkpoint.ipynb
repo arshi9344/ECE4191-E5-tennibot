{
 "cells": [
  {
   "cell_type": "code",
   "execution_count": null,
   "id": "initial_id",
   "metadata": {},
   "outputs": [],
   "source": [
    "import os, sys\n",
    "# print(f\"{os.getcwd()}\")\n",
    "# sys.path.append(os.getcwd())\n",
    "current_dir = os.getcwd()\n",
    "ECE_tenni_dir = os.path.abspath(os.path.join(current_dir, \"..\", \"..\"))\n",
    "print(ECE_tenni_dir)\n",
    "sys.path.append(ECE_tenni_dir)\n",
    "\n",
    "try: # Import the GPIO library. If it fails, we assume we are running on a non-Raspberry Pi system.\n",
    "    import RPi.GPIO as GPIO\n",
    "    import gpiozero\n",
    "except ImportError:\n",
    "    print(\"Not running on Raspberry Pi. GPIO library not imported.\")\n",
    "    pass\n",
    "\n",
    "import matplotlib.pyplot as plt\n",
    "import matplotlib.gridspec as gridspec\n",
    "%matplotlib inline\n",
    "plt.ion()  # Turn on interactive mode\n",
    "\n",
    "from robot_core.coordinator.ProcessCoordinator import Coordinator\n",
    "\n",
    "###############################################################################\n",
    "\n",
    "\n",
    "# fig, axes = plt.subplots(2, 2, figsize=(12, 10))\n",
    "# \n",
    "# coordinator = Coordinator(simulate=True, fig=fig, axes=axes, live_graphs=True, graph_interval=0.2, log=False)\n",
    "# coordinator.run()\n",
    "\n",
    "############## New approach\n",
    "# Set up figure\n",
    "fig = plt.figure(figsize=(24, 12))\n",
    "\n",
    "# Create a GridSpec with 2 rows and 3 columns (2x2 grid on the left, and a single large plot on the right)\n",
    "gs = gridspec.GridSpec(2, 3, width_ratios=[1, 1, 2])  # Width ratio for the right plot should be bigger\n",
    "\n",
    "# Create the 2x2 subplots\n",
    "ax1 = plt.subplot(gs[0, 0])  # Top-left\n",
    "ax2 = plt.subplot(gs[0, 1])  # Top-right\n",
    "ax3 = plt.subplot(gs[1, 0])  # Bottom-left\n",
    "ax4 = plt.subplot(gs[1, 1])  # Bottom-right\n",
    "\n",
    "# Create the large plot on the right, spanning both rows (occupies 2 rows in the 3rd column)\n",
    "ax5 = plt.subplot(gs[:, 2])  # This spans the entire height (both rows) of the 3rd column\n",
    "\n",
    "\n",
    "coordinator = Coordinator(simulate=True, fig=fig, axes=[ax1, ax2, ax3, ax4, ax5], live_graphs=True, graph_interval=0.5, log=False)\n",
    "coordinator.run()\n"
   ]
  },
  {
   "cell_type": "code",
   "execution_count": null,
   "id": "d8511f89a6da6a4b",
   "metadata": {},
   "outputs": [],
   "source": []
  }
 ],
 "metadata": {
  "kernelspec": {
   "display_name": "Python 3 (ipykernel)",
   "language": "python",
   "name": "python3"
  },
  "language_info": {
   "codemirror_mode": {
    "name": "ipython",
    "version": 3
   },
   "file_extension": ".py",
   "mimetype": "text/x-python",
   "name": "python",
   "nbconvert_exporter": "python",
   "pygments_lexer": "ipython3",
   "version": "3.10.12"
  }
 },
 "nbformat": 4,
 "nbformat_minor": 5
}
